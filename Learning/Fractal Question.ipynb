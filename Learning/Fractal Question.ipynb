{
 "cells": [
  {
   "cell_type": "code",
   "execution_count": 0,
   "metadata": {
    "application/vnd.databricks.v1+cell": {
     "cellMetadata": {
      "byteLimit": 2048000,
      "rowLimit": 10000
     },
     "inputWidgets": {},
     "nuid": "6391f10a-c199-49d8-a80f-8a572130ae45",
     "showTitle": false,
     "tableResultSettingsMap": {},
     "title": ""
    }
   },
   "outputs": [],
   "source": [
    "greed_god_data = [\n",
    "    (1,'Zeus','M'),\n",
    "    (2,'Ares','M'),\n",
    "    (3,'Hera','F'),\n",
    "    (4,'Persephone','F'),\n",
    "    (5,'Demeter','F')\n",
    "] \n",
    "\n",
    "greed_god_schema = ['g_id','g_name','g_gender']\n",
    "\n",
    "greek_god_df = spark.createDataFrame(greed_god_data,greed_god_schema)\n",
    "\n",
    "relation_data = [\n",
    "(2,1),\n",
    "(2,3),\n",
    "(4,1),\n",
    "(4,5)\n",
    "]\n",
    "\n",
    "relation_schema = ['c_id','p_id']\n",
    "\n",
    "relation_df = spark.createDataFrame(relation_data,relation_schema)"
   ]
  },
  {
   "cell_type": "code",
   "execution_count": 0,
   "metadata": {
    "application/vnd.databricks.v1+cell": {
     "cellMetadata": {
      "byteLimit": 2048000,
      "rowLimit": 10000
     },
     "inputWidgets": {},
     "nuid": "96664c6a-9f43-488a-aeac-7bdcffab520f",
     "showTitle": false,
     "tableResultSettingsMap": {},
     "title": ""
    }
   },
   "outputs": [],
   "source": [
    "from pyspark.sql.functions import col,when"
   ]
  },
  {
   "cell_type": "code",
   "execution_count": 0,
   "metadata": {
    "application/vnd.databricks.v1+cell": {
     "cellMetadata": {
      "byteLimit": 2048000,
      "rowLimit": 10000
     },
     "inputWidgets": {},
     "nuid": "198a6b92-a59c-4972-84ef-dcca2057771c",
     "showTitle": false,
     "tableResultSettingsMap": {},
     "title": ""
    }
   },
   "outputs": [],
   "source": [
    "child_to_father_df = relation_df.join(greek_god_df,relation_df.p_id == greek_god_df.g_id,'inner')\\\n",
    "                    .withColumn('parent_gender',when(col('g_gender') == 'M','Male').otherwise('Female'))\\\n",
    "                    .withColumn('Father',when(col('parent_gender')=='Male',col('g_name')).otherwise(None))\\\n",
    "                    .select('c_id','Father').filter(col('Father').isNotNull())"
   ]
  },
  {
   "cell_type": "code",
   "execution_count": 0,
   "metadata": {
    "application/vnd.databricks.v1+cell": {
     "cellMetadata": {
      "byteLimit": 2048000,
      "rowLimit": 10000
     },
     "inputWidgets": {},
     "nuid": "4c009b2a-433f-44d8-81cd-de5a35c77b03",
     "showTitle": false,
     "tableResultSettingsMap": {},
     "title": ""
    }
   },
   "outputs": [],
   "source": [
    "child_to_mother_df = relation_df.join(greek_god_df,relation_df.p_id == greek_god_df.g_id,'inner')\\\n",
    "                    .withColumn('parent_gender',when(col('g_gender') == 'F','Female').otherwise('Male'))\\\n",
    "                    .withColumn('Mother',when(col('parent_gender')=='Female',col('g_name')).otherwise(None))\\\n",
    "                    .select('c_id','Mother').filter(col('Mother').isNotNull())"
   ]
  },
  {
   "cell_type": "code",
   "execution_count": 0,
   "metadata": {
    "application/vnd.databricks.v1+cell": {
     "cellMetadata": {
      "byteLimit": 2048000,
      "rowLimit": 10000
     },
     "inputWidgets": {},
     "nuid": "41c02377-9c9b-4cde-a6ba-96cc65df4f87",
     "showTitle": false,
     "tableResultSettingsMap": {},
     "title": ""
    }
   },
   "outputs": [],
   "source": [
    "final_df = greek_god_df.join(child_to_father_df,greek_god_df.g_id == child_to_father_df.c_id,'inner').join(child_to_mother_df,greek_god_df.g_id == child_to_mother_df.c_id,'inner').select(col('g_name').alias('child'),'Father','Mother').show()"
   ]
  },
  {
   "cell_type": "code",
   "execution_count": 0,
   "metadata": {
    "application/vnd.databricks.v1+cell": {
     "cellMetadata": {
      "byteLimit": 2048000,
      "rowLimit": 10000
     },
     "inputWidgets": {},
     "nuid": "140a9e71-808f-4fd2-a8bf-e319fd31a3ae",
     "showTitle": false,
     "tableResultSettingsMap": {},
     "title": ""
    }
   },
   "outputs": [],
   "source": [
    "data = [\n",
    "    (1,2023,10000),\n",
    "    (1,2024,12000),\n",
    "    (1,2025,12000),\n",
    "    (2,2023,10000),\n",
    "    (2,2024,10000)\n",
    "]\n",
    "\n",
    "schema = ['id','year','salary']\n",
    "\n",
    "test_df = spark.createDataFrame(data,schema)"
   ]
  },
  {
   "cell_type": "code",
   "execution_count": 0,
   "metadata": {
    "application/vnd.databricks.v1+cell": {
     "cellMetadata": {
      "byteLimit": 2048000,
      "rowLimit": 10000
     },
     "inputWidgets": {},
     "nuid": "f3f8f393-7f96-4566-a032-5aa557cb4ab4",
     "showTitle": false,
     "tableResultSettingsMap": {},
     "title": ""
    }
   },
   "outputs": [],
   "source": [
    "from pyspark.sql.functions import col, lead\n",
    "from pyspark.sql.window import Window\n",
    "\n",
    "window = Window.partitionBy('id').orderBy(col('year').desc())\n",
    "\n",
    "new_test_df = test_df.withColumn('rank',lead(col('salary'),1).over(window))\n",
    "\n",
    "result_df = new_test_df.withColumn('difference',col('salary')-col('rank'))\n",
    "\n",
    "final_df = result_df.filter(col('difference') > 0).select(col('id'),col('difference'))\n",
    "\n",
    "display(final_df)"
   ]
  },
  {
   "cell_type": "code",
   "execution_count": 0,
   "metadata": {
    "application/vnd.databricks.v1+cell": {
     "cellMetadata": {
      "byteLimit": 2048000,
      "rowLimit": 10000
     },
     "inputWidgets": {},
     "nuid": "7a8a8493-764b-4b96-9595-06e465d2c2ed",
     "showTitle": false,
     "tableResultSettingsMap": {},
     "title": ""
    }
   },
   "outputs": [],
   "source": [
    "son_father_data = [\n",
    "    ('Ram','Dasrath'),\n",
    "    ('Laxman','Dasrath'),\n",
    "    ('Bharat','Dasrath'),\n",
    "    ('Shatrughna','Dasrath'),\n",
    "    ('Bharat','Vishwamirtra')\n",
    "]\n",
    "\n",
    "son_father_schema = ['son','father']\n",
    "\n",
    "son_father_df = spark.createDataFrame(son_father_data,son_father_schema)"
   ]
  },
  {
   "cell_type": "code",
   "execution_count": 0,
   "metadata": {
    "application/vnd.databricks.v1+cell": {
     "cellMetadata": {
      "byteLimit": 2048000,
      "rowLimit": 10000
     },
     "inputWidgets": {},
     "nuid": "c469fff0-c58e-4273-a017-595c9af52188",
     "showTitle": false,
     "tableResultSettingsMap": {},
     "title": ""
    }
   },
   "outputs": [],
   "source": [
    "from pyspark.sql.functions import count\n",
    "\n",
    "son_count_df = son_father_df.groupBy('son').agg(count('father').alias('count'))\n",
    "\n",
    "display(son_count_df)"
   ]
  },
  {
   "cell_type": "code",
   "execution_count": 0,
   "metadata": {
    "application/vnd.databricks.v1+cell": {
     "cellMetadata": {
      "byteLimit": 2048000,
      "rowLimit": 10000
     },
     "inputWidgets": {},
     "nuid": "ab2bed45-91ee-4175-9536-f6835b9d19a3",
     "showTitle": false,
     "tableResultSettingsMap": {},
     "title": ""
    }
   },
   "outputs": [],
   "source": [
    "numbers = [1, 2, 3, 5, 6]\n",
    "\n",
    "missing_number = set(range(numbers[0], numbers[-1] + 1)) - set(numbers)\n",
    "missing_number = list(missing_number)[0]\n",
    "\n",
    "missing_number"
   ]
  },
  {
   "cell_type": "code",
   "execution_count": 0,
   "metadata": {
    "application/vnd.databricks.v1+cell": {
     "cellMetadata": {
      "byteLimit": 2048000,
      "rowLimit": 10000
     },
     "inputWidgets": {},
     "nuid": "fe67938c-4c9b-4cf6-8ef0-efa61710ee41",
     "showTitle": false,
     "tableResultSettingsMap": {},
     "title": ""
    }
   },
   "outputs": [],
   "source": [
    "comments_data = [\n",
    "    ('excellent',),\n",
    "    ('food is excellent',),\n",
    "    ('service was ok',),\n",
    "    ('ambience was excellent, food was excellent, service was ok',)\n",
    "]\n",
    "comments_schema = ['comment']\n",
    "\n",
    "comments_df = spark.createDataFrame(comments_data,comments_schema)"
   ]
  },
  {
   "cell_type": "code",
   "execution_count": 0,
   "metadata": {
    "application/vnd.databricks.v1+cell": {
     "cellMetadata": {
      "byteLimit": 2048000,
      "rowLimit": 10000
     },
     "inputWidgets": {},
     "nuid": "e6954a4d-f346-487b-b045-18b1bcfd699e",
     "showTitle": false,
     "tableResultSettingsMap": {},
     "title": ""
    }
   },
   "outputs": [],
   "source": [
    "from pyspark.sql.functions import col, lower,split, explode, count\n",
    "\n",
    "excellent_count = comments_df.withColumn('comment',explode(split(col('comment'),','))).withColumn('comment',explode(split(col('comment'),' ')))\n",
    "\n",
    "df_exc = excellent_count.filter(lower(col('comment')) == 'excellent')\n",
    "\n",
    "df_exc_count = df_exc.groupBy().agg(count('comment').alias('count'))\n",
    "\n",
    "display(df_exc_count)"
   ]
  },
  {
   "cell_type": "code",
   "execution_count": 0,
   "metadata": {
    "application/vnd.databricks.v1+cell": {
     "cellMetadata": {
      "byteLimit": 2048000,
      "rowLimit": 10000
     },
     "inputWidgets": {},
     "nuid": "75fb83d9-e065-437f-a7ce-2df538394c96",
     "showTitle": false,
     "tableResultSettingsMap": {},
     "title": ""
    }
   },
   "outputs": [],
   "source": [
    "fruit_data = [\n",
    "    ('apple',10),\n",
    "    ('banana',5),\n",
    "    ('apple',20),\n",
    "    ('orange',15)\n",
    "]\n",
    "\n",
    "fruit_schema = ['fruit','quantity']\n",
    "\n",
    "fruit_df = spark.createDataFrame(fruit_data,fruit_schema)"
   ]
  },
  {
   "cell_type": "code",
   "execution_count": 0,
   "metadata": {
    "application/vnd.databricks.v1+cell": {
     "cellMetadata": {
      "byteLimit": 2048000,
      "rowLimit": 10000
     },
     "inputWidgets": {},
     "nuid": "f01fe9f7-8e53-4e9b-b2d2-abd37dc8b422",
     "showTitle": false,
     "tableResultSettingsMap": {},
     "title": ""
    }
   },
   "outputs": [],
   "source": [
    "from pyspark.sql.window import Window\n",
    "from pyspark.sql.functions import row_number\n",
    "\n",
    "window = Window.partitionBy('fruit').orderBy(col('quantity'))\n",
    "\n",
    "unique_fruit = fruit_df.withColumn('unique_quantity',row_number().over(window))\n",
    "\n",
    "display(unique_fruit)"
   ]
  }
 ],
 "metadata": {
  "application/vnd.databricks.v1+notebook": {
   "computePreferences": null,
   "dashboards": [],
   "environmentMetadata": {
    "base_environment": "",
    "environment_version": "2"
   },
   "language": "python",
   "notebookMetadata": {
    "mostRecentlyExecutedCommandWithImplicitDF": {
     "commandId": 6154074933075673,
     "dataframes": [
      "_sqldf"
     ]
    },
    "pythonIndentUnit": 4
   },
   "notebookName": "Fractal Question",
   "widgets": {}
  },
  "language_info": {
   "name": "python"
  }
 },
 "nbformat": 4,
 "nbformat_minor": 0
}
