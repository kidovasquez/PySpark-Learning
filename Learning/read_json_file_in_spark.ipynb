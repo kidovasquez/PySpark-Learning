{
 "cells": [
  {
   "cell_type": "markdown",
   "metadata": {
    "application/vnd.databricks.v1+cell": {
     "cellMetadata": {},
     "inputWidgets": {},
     "nuid": "2611a545-5cda-48d2-9d81-7db50ee29cf1",
     "showTitle": false,
     "tableResultSettingsMap": {},
     "title": ""
    }
   },
   "source": [
    "File uploaded to /FileStore/tables/multi_line_correct.json\n",
    "\n",
    "File uploaded to /FileStore/tables/multi_line_incorrect.json\n",
    "\n",
    "File uploaded to /FileStore/tables/corrupted_json.json\n",
    "\n",
    "File uploaded to /FileStore/tables/line_delimited_json_extrafield.json\n",
    "\n",
    "File uploaded to /FileStore/tables/line_delimited_json.json\n",
    "\n",
    "File uploaded to /FileStore/tables/file5.json"
   ]
  },
  {
   "cell_type": "code",
   "execution_count": 0,
   "metadata": {
    "application/vnd.databricks.v1+cell": {
     "cellMetadata": {
      "byteLimit": 2048000,
      "rowLimit": 10000
     },
     "inputWidgets": {},
     "nuid": "319a0efc-13e6-4b9f-a14a-f4a9112b2767",
     "showTitle": false,
     "tableResultSettingsMap": {},
     "title": ""
    }
   },
   "outputs": [],
   "source": [
    "spark.read.format('json')\\\n",
    "                .option('inferschema', 'true')\\\n",
    "                .option('mode','permissive')\\\n",
    "                .load('/FileStore/tables/line_delimited_json.json').show()"
   ]
  },
  {
   "cell_type": "code",
   "execution_count": 0,
   "metadata": {
    "application/vnd.databricks.v1+cell": {
     "cellMetadata": {
      "byteLimit": 2048000,
      "rowLimit": 10000
     },
     "inputWidgets": {},
     "nuid": "82515980-88c6-44a3-b0d6-c9f065eb4cf3",
     "showTitle": false,
     "tableResultSettingsMap": {},
     "title": ""
    }
   },
   "outputs": [],
   "source": [
    "spark.read.format('json')\\\n",
    "                .option('inferschema', 'true')\\\n",
    "                .option('mode','permissive')\\\n",
    "                .load('/FileStore/tables/line_delimited_json_extrafield.json').show()"
   ]
  },
  {
   "cell_type": "code",
   "execution_count": 0,
   "metadata": {
    "application/vnd.databricks.v1+cell": {
     "cellMetadata": {
      "byteLimit": 2048000,
      "rowLimit": 10000
     },
     "inputWidgets": {},
     "nuid": "80a8a642-6323-447c-a6cd-af7b4580ef49",
     "showTitle": false,
     "tableResultSettingsMap": {},
     "title": ""
    }
   },
   "outputs": [],
   "source": [
    "spark.read.format('json')\\\n",
    "                .option('inferschema', 'true')\\\n",
    "                .option('mode','permissive')\\\n",
    "                .option('multiLine','true')\\\n",
    "                .load('/FileStore/tables/multi_line_correct.json').show()"
   ]
  },
  {
   "cell_type": "code",
   "execution_count": 0,
   "metadata": {
    "application/vnd.databricks.v1+cell": {
     "cellMetadata": {
      "byteLimit": 2048000,
      "rowLimit": 10000
     },
     "inputWidgets": {},
     "nuid": "ad8c8795-78e6-4e73-99b8-8d6875afbba5",
     "showTitle": false,
     "tableResultSettingsMap": {},
     "title": ""
    }
   },
   "outputs": [],
   "source": [
    "spark.read.format('json')\\\n",
    "                .option('inferschema', 'true')\\\n",
    "                .option('mode','permissive')\\\n",
    "                .option('multiLine','true')\\\n",
    "                .load('/FileStore/tables/multi_line_incorrect.json').show()"
   ]
  },
  {
   "cell_type": "code",
   "execution_count": 0,
   "metadata": {
    "application/vnd.databricks.v1+cell": {
     "cellMetadata": {
      "byteLimit": 2048000,
      "rowLimit": 10000
     },
     "inputWidgets": {},
     "nuid": "0dda47c0-75d5-41e7-94f7-887c40769ed5",
     "showTitle": false,
     "tableResultSettingsMap": {},
     "title": ""
    }
   },
   "outputs": [],
   "source": [
    "spark.read.format('json')\\\n",
    "                .option('inferschema', 'true')\\\n",
    "                .option('mode','permissive')\\\n",
    "                .load('/FileStore/tables/corrupted_json.json').show(truncate=False)"
   ]
  },
  {
   "cell_type": "code",
   "execution_count": 0,
   "metadata": {
    "application/vnd.databricks.v1+cell": {
     "cellMetadata": {
      "byteLimit": 2048000,
      "rowLimit": 10000
     },
     "inputWidgets": {},
     "nuid": "3626c3d6-7990-48dd-bec2-51347d0a7439",
     "showTitle": false,
     "tableResultSettingsMap": {},
     "title": ""
    }
   },
   "outputs": [],
   "source": [
    "restaurant_df = spark.read.format('json')\\\n",
    "                .option('inferschema', 'true')\\\n",
    "                .option('mode','permissive')\\\n",
    "                .option('multiLine','true')\\\n",
    "                .load('/FileStore/tables/file5.json')"
   ]
  },
  {
   "cell_type": "markdown",
   "metadata": {
    "application/vnd.databricks.v1+cell": {
     "cellMetadata": {},
     "inputWidgets": {},
     "nuid": "894c7d9b-2dda-45f9-ac00-5d31ffaa5876",
     "showTitle": false,
     "tableResultSettingsMap": {},
     "title": ""
    }
   },
   "source": [
    "Flatten JSON"
   ]
  },
  {
   "cell_type": "code",
   "execution_count": 0,
   "metadata": {
    "application/vnd.databricks.v1+cell": {
     "cellMetadata": {
      "byteLimit": 2048000,
      "rowLimit": 10000
     },
     "inputWidgets": {},
     "nuid": "f683aecd-e969-4bc4-a8da-ca17b9f14261",
     "showTitle": false,
     "tableResultSettingsMap": {},
     "title": ""
    }
   },
   "outputs": [],
   "source": [
    "restaurant_df.show()"
   ]
  },
  {
   "cell_type": "code",
   "execution_count": 0,
   "metadata": {
    "application/vnd.databricks.v1+cell": {
     "cellMetadata": {
      "byteLimit": 2048000,
      "rowLimit": 10000
     },
     "inputWidgets": {},
     "nuid": "7e23d0bf-35da-49aa-9a6d-4e7dd776bb73",
     "showTitle": false,
     "tableResultSettingsMap": {},
     "title": ""
    }
   },
   "outputs": [],
   "source": [
    "restaurant_df.printSchema()"
   ]
  },
  {
   "cell_type": "code",
   "execution_count": 0,
   "metadata": {
    "application/vnd.databricks.v1+cell": {
     "cellMetadata": {
      "byteLimit": 2048000,
      "rowLimit": 10000
     },
     "inputWidgets": {},
     "nuid": "76dac4a4-4f5d-4e0a-abc7-5af72baa48da",
     "showTitle": false,
     "tableResultSettingsMap": {},
     "title": ""
    }
   },
   "outputs": [],
   "source": [
    "from pyspark.sql.functions import explode,col,explode_outer"
   ]
  },
  {
   "cell_type": "code",
   "execution_count": 0,
   "metadata": {
    "application/vnd.databricks.v1+cell": {
     "cellMetadata": {
      "byteLimit": 2048000,
      "rowLimit": 10000
     },
     "inputWidgets": {},
     "nuid": "1a1a3bda-fa11-43fe-8c0e-05b18630b4c3",
     "showTitle": false,
     "tableResultSettingsMap": {},
     "title": ""
    }
   },
   "outputs": [],
   "source": [
    "restaurant_df.select(\"*\",explode(col(\"restaurants\")).alias(\"new_restaurants\")).drop(col('restaurants')).printSchema()"
   ]
  },
  {
   "cell_type": "code",
   "execution_count": 0,
   "metadata": {
    "application/vnd.databricks.v1+cell": {
     "cellMetadata": {
      "byteLimit": 2048000,
      "rowLimit": 10000
     },
     "inputWidgets": {},
     "nuid": "8f1a1e77-7124-405e-8783-026de231ed9e",
     "showTitle": false,
     "tableResultSettingsMap": {},
     "title": ""
    }
   },
   "outputs": [],
   "source": [
    "restaurant_df.select(\"*\",explode(col(\"restaurants\")).alias(\"new_restaurants\")).drop(col('restaurants'))\\\n",
    "    .select('*','new_restaurants.restaurant.R.res_id',explode_outer('new_restaurants.restaurant.establishment_types').alias('establishment_types_new'),\n",
    "        'new_restaurants.restaurant.name').drop('new_restaurants','code','message','results_found','results_shown','results_start','status').show()"
   ]
  }
 ],
 "metadata": {
  "application/vnd.databricks.v1+notebook": {
   "computePreferences": null,
   "dashboards": [],
   "environmentMetadata": {
    "base_environment": "",
    "environment_version": "2"
   },
   "language": "python",
   "notebookMetadata": {
    "pythonIndentUnit": 4
   },
   "notebookName": "read_json_file_in_spark",
   "widgets": {}
  },
  "language_info": {
   "name": "python"
  }
 },
 "nbformat": 4,
 "nbformat_minor": 0
}
