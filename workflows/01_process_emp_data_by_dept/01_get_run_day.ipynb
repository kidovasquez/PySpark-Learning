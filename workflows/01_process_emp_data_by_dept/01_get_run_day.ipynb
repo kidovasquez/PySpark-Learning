{
 "cells": [
  {
   "cell_type": "code",
   "execution_count": 0,
   "metadata": {
    "application/vnd.databricks.v1+cell": {
     "cellMetadata": {
      "byteLimit": 2048000,
      "rowLimit": 10000
     },
     "inputWidgets": {},
     "nuid": "c04307cb-2de5-4c14-98a0-fa28fb282584",
     "showTitle": false,
     "tableResultSettingsMap": {},
     "title": ""
    }
   },
   "outputs": [],
   "source": [
    "# ISO Date Input format - 2025-03-01T14:11:00 (yyyy-MM-ddTHH:mm:ss)\n",
    "# Read date as input and get the day of the week - Like Sun, Mon etc\n",
    "# Create input_date widget\n",
    "dbutils.widgets.text(\"input_date\", \"\")"
   ]
  },
  {
   "cell_type": "code",
   "execution_count": 0,
   "metadata": {
    "application/vnd.databricks.v1+cell": {
     "cellMetadata": {
      "byteLimit": 2048000,
      "rowLimit": 10000
     },
     "inputWidgets": {},
     "nuid": "7b3c1c95-6a49-4b54-ae1a-dbf47b2565a5",
     "showTitle": false,
     "tableResultSettingsMap": {},
     "title": ""
    }
   },
   "outputs": [],
   "source": [
    "# Read value from widget\n",
    "_input_date = dbutils.widgets.get(\"input_date\")\n",
    "print(_input_date)"
   ]
  },
  {
   "cell_type": "code",
   "execution_count": 0,
   "metadata": {
    "application/vnd.databricks.v1+cell": {
     "cellMetadata": {
      "byteLimit": 2048000,
      "rowLimit": 10000
     },
     "inputWidgets": {},
     "nuid": "9af826d0-2925-4d28-bf12-2b2b4f2ffff7",
     "showTitle": false,
     "tableResultSettingsMap": {},
     "title": ""
    }
   },
   "outputs": [],
   "source": [
    "# Format the input_date to extract the day of the week\n",
    "# Set conf to legacy to support datetime patterns\n",
    "spark.conf.set(\"spark.sql.legacy.timeParserPolicy\", \"LEGACY\")\n",
    "\n",
    "_input_day = spark.sql(f\"\"\"\n",
    "                            select date_format(to_timestamp('{_input_date}',\"yyyy-MM-dd'T'HH:mm:ss\"),'E')\n",
    "                            \"\"\").collect()[0][0]\n",
    "\n",
    "print(_input_day)\n"
   ]
  },
  {
   "cell_type": "code",
   "execution_count": 0,
   "metadata": {
    "application/vnd.databricks.v1+cell": {
     "cellMetadata": {
      "byteLimit": 2048000,
      "rowLimit": 10000
     },
     "inputWidgets": {},
     "nuid": "d12b3f11-24da-4614-9cd9-8c79e79814e5",
     "showTitle": false,
     "tableResultSettingsMap": {},
     "title": ""
    }
   },
   "outputs": [],
   "source": [
    "# Export the dat of the week using taskvalues to use in the next task\n",
    "dbutils.jobs.taskValues.set(\"input_day\", _input_day)"
   ]
  }
 ],
 "metadata": {
  "application/vnd.databricks.v1+notebook": {
   "computePreferences": null,
   "dashboards": [],
   "environmentMetadata": {
    "base_environment": "",
    "environment_version": "2"
   },
   "language": "python",
   "notebookMetadata": {
    "pythonIndentUnit": 4
   },
   "notebookName": "01_get_run_day",
   "widgets": {
    "input_date": {
     "currentValue": "2025-03-01T14:11:00",
     "nuid": "d1567f0e-d8aa-4578-99cc-39cd742fa7a3",
     "typedWidgetInfo": {
      "autoCreated": false,
      "defaultValue": "",
      "label": null,
      "name": "input_date",
      "options": {
       "widgetDisplayType": "Text",
       "validationRegex": null
      },
      "parameterDataType": "String"
     },
     "widgetInfo": {
      "widgetType": "text",
      "defaultValue": "",
      "label": null,
      "name": "input_date",
      "options": {
       "widgetType": "text",
       "autoCreated": null,
       "validationRegex": null
      }
     }
    }
   }
  },
  "language_info": {
   "name": "python"
  }
 },
 "nbformat": 4,
 "nbformat_minor": 0
}
