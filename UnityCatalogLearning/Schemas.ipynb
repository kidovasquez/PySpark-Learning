{
 "cells": [
  {
   "cell_type": "code",
   "execution_count": 0,
   "metadata": {
    "application/vnd.databricks.v1+cell": {
     "cellMetadata": {
      "byteLimit": 2048000,
      "rowLimit": 10000
     },
     "inputWidgets": {},
     "nuid": "d01a7b98-7480-4c02-bdbc-7fc7ea50920e",
     "showTitle": false,
     "tableResultSettingsMap": {},
     "title": ""
    }
   },
   "outputs": [],
   "source": [
    "-- create schema without external location in dev catalog\n",
    "create schema dev.bronze\n",
    "comment 'this is schema in dev catalog without external location'\n",
    ";"
   ]
  },
  {
   "cell_type": "code",
   "execution_count": 0,
   "metadata": {
    "application/vnd.databricks.v1+cell": {
     "cellMetadata": {
      "byteLimit": 2048000,
      "rowLimit": 10000
     },
     "inputWidgets": {},
     "nuid": "6b41b047-9373-402a-8411-1dac8f4f6b10",
     "showTitle": false,
     "tableResultSettingsMap": {},
     "title": ""
    }
   },
   "outputs": [],
   "source": [
    "-- create schema without external location in dev_ext catalog\n",
    "create schema dev_ext.bronze\n",
    "comment 'this is schema in dev ext catalog without external location'\n",
    ";"
   ]
  },
  {
   "cell_type": "code",
   "execution_count": 0,
   "metadata": {
    "application/vnd.databricks.v1+cell": {
     "cellMetadata": {
      "byteLimit": 2048000,
      "rowLimit": 10000
     },
     "inputWidgets": {},
     "nuid": "3095fb18-bab7-4c82-a484-4182a7f18f83",
     "showTitle": false,
     "tableResultSettingsMap": {},
     "title": ""
    }
   },
   "outputs": [],
   "source": [
    "-- create external location for schema\n",
    "create external location `ext_schema`\n",
    "url 'abfss://data@adbwithdata01.dfs.core.windows.net/adb/schema'\n",
    "with (storage credential `uc-catalog-storage`)\n",
    ";"
   ]
  },
  {
   "cell_type": "code",
   "execution_count": 0,
   "metadata": {
    "application/vnd.databricks.v1+cell": {
     "cellMetadata": {
      "byteLimit": 2048000,
      "rowLimit": 10000
     },
     "inputWidgets": {},
     "nuid": "2e648ffe-1759-484b-84d9-d31f439678f2",
     "showTitle": false,
     "tableResultSettingsMap": {},
     "title": ""
    }
   },
   "outputs": [],
   "source": [
    "-- create schema with external location in dev_ext catalog\n",
    "create schema dev_ext.bronze_ext\n",
    "comment 'this is schema in dev ext catalog with external location'\n",
    "managed location 'abfss://data@adbwithdata01.dfs.core.windows.net/adb/schema'\n",
    ";"
   ]
  },
  {
   "cell_type": "code",
   "execution_count": 0,
   "metadata": {
    "application/vnd.databricks.v1+cell": {
     "cellMetadata": {
      "byteLimit": 2048000,
      "rowLimit": 10000
     },
     "inputWidgets": {},
     "nuid": "c70332b1-52d7-4247-a599-d809ba775712",
     "showTitle": false,
     "tableResultSettingsMap": {},
     "title": ""
    }
   },
   "outputs": [],
   "source": [
    "-- create table raw_sales in all 3 schemas\n",
    "\n",
    "create table dev_ext.bronze_ext.raw_sale(\n",
    "  invoice_id string,\n",
    "  cust_id string,\n",
    "  product_code string,\n",
    "  qty double,\n",
    "  price double\n",
    ");\n",
    "\n",
    "-- insert data\n",
    "insert into dev_ext.bronze_ext.raw_sale values ('INV1001','CUST1001','PCODE1001',10,100);\n"
   ]
  },
  {
   "cell_type": "code",
   "execution_count": 0,
   "metadata": {
    "application/vnd.databricks.v1+cell": {
     "cellMetadata": {
      "byteLimit": 2048000,
      "rowLimit": 10000
     },
     "inputWidgets": {},
     "nuid": "9f058290-421e-43e3-a546-d732c68fad94",
     "showTitle": false,
     "tableResultSettingsMap": {},
     "title": ""
    }
   },
   "outputs": [],
   "source": [
    "-- Describe to see the data location\n",
    "describe extended dev_ext.bronze_ext.raw_sale;"
   ]
  }
 ],
 "metadata": {
  "application/vnd.databricks.v1+notebook": {
   "computePreferences": null,
   "dashboards": [],
   "environmentMetadata": {
    "base_environment": "",
    "environment_version": "2"
   },
   "language": "sql",
   "notebookMetadata": {
    "pythonIndentUnit": 4
   },
   "notebookName": "Schemas",
   "widgets": {}
  },
  "language_info": {
   "name": "sql"
  }
 },
 "nbformat": 4,
 "nbformat_minor": 0
}
