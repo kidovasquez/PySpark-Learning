{
 "cells": [
  {
   "cell_type": "code",
   "execution_count": 0,
   "metadata": {
    "application/vnd.databricks.v1+cell": {
     "cellMetadata": {
      "byteLimit": 2048000,
      "rowLimit": 10000
     },
     "inputWidgets": {},
     "nuid": "7e856807-08e3-4bad-8e1f-8cd114f8d6e6",
     "showTitle": false,
     "tableResultSettingsMap": {},
     "title": ""
    }
   },
   "outputs": [],
   "source": [
    "-- create new managed volume landing under dev >  bronze\n",
    "create volume dev.bronze.landing\n",
    "comment 'This is a managed landing volume'\n",
    ";"
   ]
  },
  {
   "cell_type": "code",
   "execution_count": 0,
   "metadata": {
    "application/vnd.databricks.v1+cell": {
     "cellMetadata": {
      "byteLimit": 2048000,
      "rowLimit": 10000
     },
     "inputWidgets": {},
     "nuid": "a9dd7517-5dae-470b-a89c-b976fca15f8d",
     "showTitle": false,
     "tableResultSettingsMap": {},
     "title": ""
    }
   },
   "outputs": [],
   "source": [
    "\n",
    "%python\n",
    "dbutils.fs.mkdirs(\"/Volumes/dev/bronze/landing/input\")"
   ]
  },
  {
   "cell_type": "code",
   "execution_count": 0,
   "metadata": {
    "application/vnd.databricks.v1+cell": {
     "cellMetadata": {
      "byteLimit": 2048000,
      "rowLimit": 10000
     },
     "inputWidgets": {},
     "nuid": "0cb4d2e4-d474-4890-ac79-dde2930c9faa",
     "showTitle": false,
     "tableResultSettingsMap": {},
     "title": ""
    }
   },
   "outputs": [],
   "source": [
    "%python\n",
    "dbutils.fs.cp(\"databricks-datasets/definitive-guide/data/retail-data/by-day/2010-12-01.csv\", \"/Volumes/dev/bronze/landing/input\")"
   ]
  },
  {
   "cell_type": "code",
   "execution_count": 0,
   "metadata": {
    "application/vnd.databricks.v1+cell": {
     "cellMetadata": {
      "byteLimit": 2048000,
      "rowLimit": 10000
     },
     "inputWidgets": {},
     "nuid": "b5629ad6-54a3-44a3-a56e-0b665e0984d4",
     "showTitle": false,
     "tableResultSettingsMap": {},
     "title": ""
    }
   },
   "outputs": [],
   "source": [
    "%python\n",
    "dbutils.fs.cp(\"databricks-datasets/definitive-guide/data/retail-data/by-day/2010-12-03.csv\", \"/Volumes/dev/bronze/landing/input\")"
   ]
  },
  {
   "cell_type": "code",
   "execution_count": 0,
   "metadata": {
    "application/vnd.databricks.v1+cell": {
     "cellMetadata": {
      "byteLimit": 2048000,
      "rowLimit": 10000
     },
     "inputWidgets": {},
     "nuid": "3ce7120c-9bc2-4b6b-be0a-f2b031c1ad7c",
     "showTitle": false,
     "tableResultSettingsMap": {},
     "title": ""
    }
   },
   "outputs": [],
   "source": [
    "--create placeholder table dev.bronze.invoice_cp\n",
    "create table dev.bronze.invoice_cp;"
   ]
  },
  {
   "cell_type": "code",
   "execution_count": 0,
   "metadata": {
    "application/vnd.databricks.v1+cell": {
     "cellMetadata": {
      "byteLimit": 2048000,
      "rowLimit": 10000
     },
     "inputWidgets": {},
     "nuid": "4ab9728d-9613-4f6c-92e5-a25dc750fe21",
     "showTitle": false,
     "tableResultSettingsMap": {},
     "title": ""
    }
   },
   "outputs": [],
   "source": [
    "-- use copy into to load data into place holder table\n",
    "copy into dev.bronze.invoice_cp\n",
    "from \"/Volumes/dev/bronze/landing/input\"\n",
    "fileformat = csv\n",
    "pattern = '*.csv'\n",
    "format_options (\n",
    "  'mergeSchema' = 'true',\n",
    "  'header' = 'true'\n",
    ")\n",
    "Copy_options(\n",
    "  'mergeSchema' = 'true'\n",
    ");"
   ]
  },
  {
   "cell_type": "code",
   "execution_count": 0,
   "metadata": {
    "application/vnd.databricks.v1+cell": {
     "cellMetadata": {
      "byteLimit": 2048000,
      "rowLimit": 10000
     },
     "inputWidgets": {},
     "nuid": "c0bdf382-a07e-40ef-8d3b-b519fc39235b",
     "showTitle": false,
     "tableResultSettingsMap": {},
     "title": ""
    }
   },
   "outputs": [],
   "source": [
    "-- view data from table\n",
    "select * from dev.bronze.invoice_cp"
   ]
  },
  {
   "cell_type": "code",
   "execution_count": 0,
   "metadata": {
    "application/vnd.databricks.v1+cell": {
     "cellMetadata": {
      "byteLimit": 2048000,
      "rowLimit": 10000
     },
     "inputWidgets": {},
     "nuid": "11447d7b-e045-4a65-9426-ca09e7e19a42",
     "showTitle": false,
     "tableResultSettingsMap": {},
     "title": ""
    }
   },
   "outputs": [],
   "source": [
    "describe extended dev.bronze.invoice_cp;"
   ]
  },
  {
   "cell_type": "code",
   "execution_count": 0,
   "metadata": {
    "application/vnd.databricks.v1+cell": {
     "cellMetadata": {
      "byteLimit": 2048000,
      "rowLimit": 10000
     },
     "inputWidgets": {},
     "nuid": "19785136-b8fb-4aac-a9f0-47b6b7dd7b31",
     "showTitle": false,
     "tableResultSettingsMap": {},
     "title": ""
    }
   },
   "outputs": [],
   "source": [
    "-- create new table with only 3 columns invoice_cp_alt and custom columns _inser_date\n",
    "create table dev.bronze.invoice_cp_alt (\n",
    "  InvoiceNo string,\n",
    "  StockCode string,\n",
    "  Quantity double,\n",
    "  _insert_date timestamp\n",
    ")\n",
    ";"
   ]
  },
  {
   "cell_type": "code",
   "execution_count": 0,
   "metadata": {
    "application/vnd.databricks.v1+cell": {
     "cellMetadata": {
      "byteLimit": 2048000,
      "rowLimit": 10000
     },
     "inputWidgets": {},
     "nuid": "2915116d-4a2a-4874-a363-43d38ddd1311",
     "showTitle": false,
     "tableResultSettingsMap": {},
     "title": ""
    }
   },
   "outputs": [],
   "source": [
    "-- load data using copy into in the new table invoice_cp_alt\n",
    "copy into dev.bronze.invoice_cp_alt\n",
    "from (\n",
    "select InvoiceNo, StockCode, cast(Quantity as double) as Quantity, current_timestamp() _insert_date\n",
    "from\n",
    "\"/Volumes/dev/bronze/landing/input\"\n",
    ")\n",
    "fileformat = csv\n",
    "pattern = '*.csv'\n",
    "format_options (\n",
    "  'mergeSchema' = 'true',\n",
    "  'header' = 'true'\n",
    ")\n",
    "Copy_options(\n",
    "  'mergeSchema' = 'true'\n",
    ");"
   ]
  },
  {
   "cell_type": "code",
   "execution_count": 0,
   "metadata": {
    "application/vnd.databricks.v1+cell": {
     "cellMetadata": {
      "byteLimit": 2048000,
      "rowLimit": 10000
     },
     "inputWidgets": {},
     "nuid": "e53698ba-6a45-4ac2-9b5f-7864e3e1adc5",
     "showTitle": false,
     "tableResultSettingsMap": {},
     "title": ""
    }
   },
   "outputs": [],
   "source": [
    "select * from dev.bronze.invoice_cp_alt"
   ]
  }
 ],
 "metadata": {
  "application/vnd.databricks.v1+notebook": {
   "computePreferences": null,
   "dashboards": [],
   "environmentMetadata": {
    "base_environment": "",
    "environment_version": "2"
   },
   "language": "sql",
   "notebookMetadata": {
    "pythonIndentUnit": 4
   },
   "notebookName": "Copy_Into",
   "widgets": {}
  },
  "language_info": {
   "name": "sql"
  }
 },
 "nbformat": 4,
 "nbformat_minor": 0
}
