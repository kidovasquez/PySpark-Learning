{
 "cells": [
  {
   "cell_type": "markdown",
   "metadata": {
    "application/vnd.databricks.v1+cell": {
     "cellMetadata": {},
     "inputWidgets": {},
     "nuid": "f47bd552-4ce4-48e6-877f-0db39e73d63c",
     "showTitle": false,
     "tableResultSettingsMap": {},
     "title": ""
    }
   },
   "source": [
    "# Scenario 1"
   ]
  },
  {
   "cell_type": "code",
   "execution_count": 0,
   "metadata": {
    "application/vnd.databricks.v1+cell": {
     "cellMetadata": {
      "byteLimit": 2048000,
      "rowLimit": 10000
     },
     "inputWidgets": {},
     "nuid": "d7911e7b-db9f-4707-bee4-35bfa2d45940",
     "showTitle": false,
     "tableResultSettingsMap": {},
     "title": ""
    }
   },
   "outputs": [],
   "source": [
    "CREATE TABLE Employee (\n",
    "    emp_id INT,\n",
    "    emp_name VARCHAR(50),\n",
    "    department VARCHAR(50),\n",
    "    salary INT,\n",
    "    join_date DATE\n",
    ");\n"
   ]
  },
  {
   "cell_type": "code",
   "execution_count": 0,
   "metadata": {
    "application/vnd.databricks.v1+cell": {
     "cellMetadata": {
      "byteLimit": 2048000,
      "rowLimit": 10000
     },
     "inputWidgets": {},
     "nuid": "152cea11-78aa-47de-8346-94cfc70b4f68",
     "showTitle": false,
     "tableResultSettingsMap": {},
     "title": ""
    }
   },
   "outputs": [],
   "source": [
    "INSERT INTO Employee VALUES (101, 'John', 'HR', 50000, '2020-01-15');\n",
    "INSERT INTO Employee VALUES (102, 'Alice', 'IT', 60000, '2021-03-10');\n",
    "INSERT INTO Employee VALUES (103, 'Bob', 'Finance', 55000, '2020-11-20');\n",
    "INSERT INTO Employee VALUES (104, 'Carol', 'IT', 62000, '2022-02-05');\n",
    "INSERT INTO Employee VALUES (105, 'Eve', 'HR', 52000, '2021-07-12');\n"
   ]
  },
  {
   "cell_type": "code",
   "execution_count": 0,
   "metadata": {
    "application/vnd.databricks.v1+cell": {
     "cellMetadata": {
      "byteLimit": 2048000,
      "rowLimit": 10000
     },
     "inputWidgets": {},
     "nuid": "4555cf95-2e98-4eeb-ab53-b7ae435f702c",
     "showTitle": false,
     "tableResultSettingsMap": {},
     "title": ""
    }
   },
   "outputs": [],
   "source": [
    "select * from employee;"
   ]
  },
  {
   "cell_type": "code",
   "execution_count": 0,
   "metadata": {
    "application/vnd.databricks.v1+cell": {
     "cellMetadata": {
      "byteLimit": 2048000,
      "rowLimit": 10000
     },
     "inputWidgets": {},
     "nuid": "5af9f3c4-d6c5-4e60-b006-36740c356146",
     "showTitle": false,
     "tableResultSettingsMap": {},
     "title": ""
    }
   },
   "outputs": [],
   "source": [
    "-- find employees who joined after 2021-01-01\n",
    "select * from employee where join_date > '2021-01-01';"
   ]
  },
  {
   "cell_type": "code",
   "execution_count": 0,
   "metadata": {
    "application/vnd.databricks.v1+cell": {
     "cellMetadata": {
      "byteLimit": 2048000,
      "rowLimit": 10000
     },
     "inputWidgets": {},
     "nuid": "9e29da14-c8cb-49ff-a0eb-ad91525a7ceb",
     "showTitle": false,
     "tableResultSettingsMap": {},
     "title": ""
    }
   },
   "outputs": [],
   "source": [
    "--Retrieve the highest salary from each department\n",
    "select department, max(salary) from employee\n",
    "group by department;"
   ]
  },
  {
   "cell_type": "code",
   "execution_count": 0,
   "metadata": {
    "application/vnd.databricks.v1+cell": {
     "cellMetadata": {
      "byteLimit": 2048000,
      "rowLimit": 10000
     },
     "inputWidgets": {},
     "nuid": "f619c85b-7a38-46ef-a4b2-120a186682a4",
     "showTitle": false,
     "tableResultSettingsMap": {},
     "title": ""
    }
   },
   "outputs": [],
   "source": [
    "-- Get the department-wise employee count.\n",
    "select department,count(1) from employee\n",
    "group by department;"
   ]
  },
  {
   "cell_type": "code",
   "execution_count": 0,
   "metadata": {
    "application/vnd.databricks.v1+cell": {
     "cellMetadata": {
      "byteLimit": 2048000,
      "rowLimit": 10000
     },
     "inputWidgets": {},
     "nuid": "637378e0-8802-402c-ad10-d4b92cf9c0ef",
     "showTitle": false,
     "tableResultSettingsMap": {},
     "title": ""
    }
   },
   "outputs": [],
   "source": [
    "-- Find the second highest salary in the IT department.\n",
    "select department, max(salary) from employee\n",
    "where salary < (select max(salary) from employee where department = 'IT') and department = 'IT'\n",
    "group by department;"
   ]
  },
  {
   "cell_type": "code",
   "execution_count": 0,
   "metadata": {
    "application/vnd.databricks.v1+cell": {
     "cellMetadata": {
      "byteLimit": 2048000,
      "rowLimit": 10000
     },
     "inputWidgets": {},
     "nuid": "a0c8b741-f07c-48b7-9c04-cc28c4acc422",
     "showTitle": false,
     "tableResultSettingsMap": {},
     "title": ""
    }
   },
   "outputs": [],
   "source": [
    "--List employees whose name starts with 'A\n",
    "select * from employee where emp_name like 'A%';"
   ]
  },
  {
   "cell_type": "code",
   "execution_count": 0,
   "metadata": {
    "application/vnd.databricks.v1+cell": {
     "cellMetadata": {
      "byteLimit": 2048000,
      "rowLimit": 10000
     },
     "inputWidgets": {},
     "nuid": "14763308-a47b-40f8-a409-a344968e0cd3",
     "showTitle": false,
     "tableResultSettingsMap": {},
     "title": ""
    }
   },
   "outputs": [],
   "source": [
    "drop table employee;"
   ]
  },
  {
   "cell_type": "markdown",
   "metadata": {
    "application/vnd.databricks.v1+cell": {
     "cellMetadata": {},
     "inputWidgets": {},
     "nuid": "5f1af280-5441-4edf-8506-a9659eddac0e",
     "showTitle": false,
     "tableResultSettingsMap": {},
     "title": ""
    }
   },
   "source": [
    "# Scenario 2\n"
   ]
  },
  {
   "cell_type": "code",
   "execution_count": 0,
   "metadata": {
    "application/vnd.databricks.v1+cell": {
     "cellMetadata": {
      "byteLimit": 2048000,
      "rowLimit": 10000
     },
     "inputWidgets": {},
     "nuid": "7ed3cbae-2111-4367-aa9a-1ad4efd081ad",
     "showTitle": false,
     "tableResultSettingsMap": {},
     "title": ""
    }
   },
   "outputs": [],
   "source": [
    "CREATE TABLE Customers (\n",
    "    customer_id INT,\n",
    "    customer_name VARCHAR(50),\n",
    "    city VARCHAR(50)\n",
    ");\n",
    "\n",
    "CREATE TABLE Orders (\n",
    "    order_id INT,\n",
    "    customer_id INT,\n",
    "    order_date DATE,\n",
    "    amount INT\n",
    ");\n"
   ]
  },
  {
   "cell_type": "code",
   "execution_count": 0,
   "metadata": {
    "application/vnd.databricks.v1+cell": {
     "cellMetadata": {
      "byteLimit": 2048000,
      "rowLimit": 10000
     },
     "inputWidgets": {},
     "nuid": "56099eed-c5bc-470e-9050-bf4161940e31",
     "showTitle": false,
     "tableResultSettingsMap": {},
     "title": ""
    }
   },
   "outputs": [],
   "source": [
    "INSERT INTO Customers VALUES (201, 'John', 'New York');\n",
    "INSERT INTO Customers VALUES (202, 'Alice', 'Chicago');\n",
    "INSERT INTO Customers VALUES (203, 'Bob', 'Boston');\n",
    "INSERT INTO Customers VALUES (204, 'Carol', 'New York');\n",
    "\n",
    "INSERT INTO Orders VALUES (1, 201, '2023-01-10', 1000);\n",
    "INSERT INTO Orders VALUES (2, 202, '2023-01-15', 2000);\n",
    "INSERT INTO Orders VALUES (3, 201, '2023-02-05', 1500);\n",
    "INSERT INTO Orders VALUES (4, 203, '2023-03-10', 2500);\n",
    "INSERT INTO Orders VALUES (5, 204, '2023-03-15', 3000);"
   ]
  },
  {
   "cell_type": "code",
   "execution_count": 0,
   "metadata": {
    "application/vnd.databricks.v1+cell": {
     "cellMetadata": {
      "byteLimit": 2048000,
      "rowLimit": 10000
     },
     "inputWidgets": {},
     "nuid": "7f21a8fa-fde5-4ba7-8b02-e4c4c1bb3e1e",
     "showTitle": false,
     "tableResultSettingsMap": {},
     "title": ""
    }
   },
   "outputs": [],
   "source": [
    "select * from customers;"
   ]
  },
  {
   "cell_type": "code",
   "execution_count": 0,
   "metadata": {
    "application/vnd.databricks.v1+cell": {
     "cellMetadata": {
      "byteLimit": 2048000,
      "rowLimit": 10000
     },
     "inputWidgets": {},
     "nuid": "2fd487c5-c0d8-43af-8ccb-8f98772e7beb",
     "showTitle": false,
     "tableResultSettingsMap": {},
     "title": ""
    }
   },
   "outputs": [],
   "source": [
    "select * from orders;"
   ]
  },
  {
   "cell_type": "code",
   "execution_count": 0,
   "metadata": {
    "application/vnd.databricks.v1+cell": {
     "cellMetadata": {
      "byteLimit": 2048000,
      "rowLimit": 10000
     },
     "inputWidgets": {},
     "nuid": "d3627582-455d-4d33-ac0d-1284733535db",
     "showTitle": false,
     "tableResultSettingsMap": {},
     "title": ""
    }
   },
   "outputs": [],
   "source": [
    "--Get the total sales amount for each customer.\n",
    "select customer_id, sum(amount) as total_sales from orders\n",
    "group by customer_id;\n"
   ]
  },
  {
   "cell_type": "code",
   "execution_count": 0,
   "metadata": {
    "application/vnd.databricks.v1+cell": {
     "cellMetadata": {
      "byteLimit": 2048000,
      "rowLimit": 10000
     },
     "inputWidgets": {},
     "nuid": "21402ab3-74ed-488a-8e1f-2a993cf5be19",
     "showTitle": false,
     "tableResultSettingsMap": {},
     "title": ""
    }
   },
   "outputs": [],
   "source": [
    "--List customers who placed more than one order.\n",
    "\n",
    "select customer_id, count(order_date) as order_count from orders\n",
    "group by customer_id\n",
    "having order_count > 1;"
   ]
  },
  {
   "cell_type": "code",
   "execution_count": 0,
   "metadata": {
    "application/vnd.databricks.v1+cell": {
     "cellMetadata": {
      "byteLimit": 2048000,
      "rowLimit": 10000
     },
     "inputWidgets": {},
     "nuid": "80dafbf1-589e-49a0-927a-0e4b50aab35d",
     "showTitle": false,
     "tableResultSettingsMap": {},
     "title": ""
    }
   },
   "outputs": [],
   "source": [
    "--Retrieve customer names along with their total order amount.\n",
    "select c.customer_name,sum(o.amount) from orders o\n",
    "inner join customers c using (customer_id)\n",
    "group by c.customer_name;"
   ]
  },
  {
   "cell_type": "code",
   "execution_count": 0,
   "metadata": {
    "application/vnd.databricks.v1+cell": {
     "cellMetadata": {
      "byteLimit": 2048000,
      "rowLimit": 10000
     },
     "inputWidgets": {},
     "nuid": "867b6960-3c73-4943-ab8f-2aa51a21f52a",
     "showTitle": false,
     "tableResultSettingsMap": {},
     "title": ""
    }
   },
   "outputs": [],
   "source": [
    "--Find customers who haven't placed any orders.\n",
    "select c.customer_id,c.customer_name, o.order_date from customers c\n",
    "full outer join orders o using (customer_id)\n",
    "where c.customer_id is null or o.customer_id is null"
   ]
  },
  {
   "cell_type": "code",
   "execution_count": 0,
   "metadata": {
    "application/vnd.databricks.v1+cell": {
     "cellMetadata": {
      "byteLimit": 2048000,
      "rowLimit": 10000
     },
     "inputWidgets": {},
     "nuid": "99ba9e22-f161-45c1-9faf-e0299c3db09e",
     "showTitle": false,
     "tableResultSettingsMap": {},
     "title": ""
    }
   },
   "outputs": [],
   "source": [
    "--Identify the top 2 cities based on sales amount.\n",
    "\n",
    "select c.city, sum(o.amount) from customers c\n",
    "inner join orders o using (customer_id)\n",
    "group by c.city\n",
    "order by sum(o.amount) desc\n",
    "limit 2;"
   ]
  },
  {
   "cell_type": "code",
   "execution_count": 0,
   "metadata": {
    "application/vnd.databricks.v1+cell": {
     "cellMetadata": {
      "byteLimit": 2048000,
      "rowLimit": 10000
     },
     "inputWidgets": {},
     "nuid": "39dae9e1-e9b1-46e0-90c6-1d75402f988d",
     "showTitle": false,
     "tableResultSettingsMap": {},
     "title": ""
    }
   },
   "outputs": [],
   "source": [
    "drop table customers;\n",
    "drop table orders;"
   ]
  },
  {
   "cell_type": "code",
   "execution_count": 0,
   "metadata": {
    "application/vnd.databricks.v1+cell": {
     "cellMetadata": {
      "byteLimit": 2048000,
      "rowLimit": 10000
     },
     "inputWidgets": {},
     "nuid": "178f962f-a1e1-4fcf-ad75-4a526bccec67",
     "showTitle": false,
     "tableResultSettingsMap": {},
     "title": ""
    }
   },
   "outputs": [],
   "source": [
    "CREATE TABLE Products (\n",
    "    product_id INT,\n",
    "    product_name VARCHAR(50),\n",
    "    category VARCHAR(50),\n",
    "    price INT\n",
    ");\n",
    "\n",
    "CREATE TABLE Orders (\n",
    "    order_id INT,\n",
    "    product_id INT,\n",
    "    customer_id INT,\n",
    "    quantity INT,\n",
    "    order_date DATE\n",
    ");\n"
   ]
  },
  {
   "cell_type": "code",
   "execution_count": 0,
   "metadata": {
    "application/vnd.databricks.v1+cell": {
     "cellMetadata": {
      "byteLimit": 2048000,
      "rowLimit": 10000
     },
     "inputWidgets": {},
     "nuid": "48d2d12f-c84f-4bcf-aee5-07ed9d346920",
     "showTitle": false,
     "tableResultSettingsMap": {},
     "title": ""
    }
   },
   "outputs": [],
   "source": [
    "INSERT INTO Products VALUES (101, 'Laptop', 'Electronics', 1000);\n",
    "INSERT INTO Products VALUES (102, 'Mobile', 'Electronics', 700);\n",
    "INSERT INTO Products VALUES (103, 'Shoes', 'Fashion', 200);\n",
    "INSERT INTO Products VALUES (104, 'Watch', 'Fashion', 150);\n",
    "INSERT INTO Products VALUES (105, 'Headphones', 'Electronics', 300);\n",
    "\n",
    "INSERT INTO Orders VALUES (1, 101, 201, 2, '2023-01-10');\n",
    "INSERT INTO Orders VALUES (2, 103, 202, 1, '2023-01-15');\n",
    "INSERT INTO Orders VALUES (3, 102, 201, 1, '2023-02-05');\n",
    "INSERT INTO Orders VALUES (4, 104, 203, 3, '2023-03-10');\n",
    "INSERT INTO Orders VALUES (5, 105, 204, 2, '2023-03-15');\n"
   ]
  },
  {
   "cell_type": "code",
   "execution_count": 0,
   "metadata": {
    "application/vnd.databricks.v1+cell": {
     "cellMetadata": {
      "byteLimit": 2048000,
      "rowLimit": 10000
     },
     "inputWidgets": {},
     "nuid": "ee14dada-9c20-4884-a332-2da8c66cf8fc",
     "showTitle": false,
     "tableResultSettingsMap": {},
     "title": ""
    }
   },
   "outputs": [],
   "source": [
    "select * from orders;"
   ]
  },
  {
   "cell_type": "code",
   "execution_count": 0,
   "metadata": {
    "application/vnd.databricks.v1+cell": {
     "cellMetadata": {
      "byteLimit": 2048000,
      "rowLimit": 10000
     },
     "inputWidgets": {},
     "nuid": "f072e365-1a47-424a-bab9-b63c360066ca",
     "showTitle": false,
     "tableResultSettingsMap": {},
     "title": ""
    }
   },
   "outputs": [],
   "source": [
    "select * from products;"
   ]
  },
  {
   "cell_type": "code",
   "execution_count": 0,
   "metadata": {
    "application/vnd.databricks.v1+cell": {
     "cellMetadata": {
      "byteLimit": 2048000,
      "rowLimit": 10000
     },
     "inputWidgets": {},
     "nuid": "00e8348f-b8e9-4a35-b46a-c733f4f57b08",
     "showTitle": false,
     "tableResultSettingsMap": {},
     "title": ""
    }
   },
   "outputs": [],
   "source": [
    "-- Find the total revenue generated for each category.\n",
    "select p.category, sum(p.price * o.quantity) as total_revenue from products p\n",
    "inner join orders o  using (product_id)\n",
    "group by p.category"
   ]
  },
  {
   "cell_type": "code",
   "execution_count": 0,
   "metadata": {
    "application/vnd.databricks.v1+cell": {
     "cellMetadata": {
      "byteLimit": 2048000,
      "rowLimit": 10000
     },
     "inputWidgets": {},
     "nuid": "a1940ce5-074a-45f4-8477-023ce6560c4c",
     "showTitle": false,
     "tableResultSettingsMap": {},
     "title": ""
    }
   },
   "outputs": [],
   "source": [
    "--List the top 3 products by revenue.\n",
    "/*with product_revenue as (\n",
    "  select p.product_name, sum(p.price * o.quantity) as total_revenue\n",
    "  from products p\n",
    "  inner join orders o using (product_id)\n",
    "  group by p.product_name\n",
    "),\n",
    "ranked_products as (\n",
    "  select product_name, total_revenue, rank() over (order by total_revenue desc) as rnk\n",
    "  from product_revenue\n",
    ")\n",
    "select product_name, total_revenue\n",
    "from ranked_products\n",
    "where rnk <= 3;*/\n",
    "\n",
    "SELECT p.product_name, SUM(o.quantity * p.price) AS revenue\n",
    "FROM Products p\n",
    "JOIN Orders o ON p.product_id = o.product_id\n",
    "GROUP BY p.product_name\n",
    "ORDER BY revenue DESC\n",
    "LIMIT 3;\n"
   ]
  },
  {
   "cell_type": "code",
   "execution_count": 0,
   "metadata": {
    "application/vnd.databricks.v1+cell": {
     "cellMetadata": {
      "byteLimit": 2048000,
      "rowLimit": 10000
     },
     "inputWidgets": {},
     "nuid": "5ccc40f9-eeef-4acd-bfc3-02d90ea25d21",
     "showTitle": false,
     "tableResultSettingsMap": {},
     "title": ""
    }
   },
   "outputs": [],
   "source": [
    "--Get the average order amount for each customer.\n",
    "/*with maincount as\n",
    "(select o.customer_id, sum(p.price * o.quantity) as total_spent, count(o.customer_id) as order_count from orders o\n",
    "inner join products p using (product_id)\n",
    "group by customer_id\n",
    ")\n",
    "select customer_id, total_spent/order_count as avg_order_amount from maincount */\n",
    "\n",
    "SELECT o.customer_id, AVG(o.quantity * p.price) AS avg_order_amount\n",
    "FROM Orders o\n",
    "JOIN Products p ON o.product_id = p.product_id\n",
    "GROUP BY o.customer_id;"
   ]
  },
  {
   "cell_type": "code",
   "execution_count": 0,
   "metadata": {
    "application/vnd.databricks.v1+cell": {
     "cellMetadata": {
      "byteLimit": 2048000,
      "rowLimit": 10000
     },
     "inputWidgets": {},
     "nuid": "6e493c71-97c4-47e7-8f14-db16eafb4f0b",
     "showTitle": false,
     "tableResultSettingsMap": {},
     "title": ""
    }
   },
   "outputs": [],
   "source": [
    "--Identify customers who bought more than 1 product.\n",
    "/* select customer_id,count(1) from orders\n",
    "group by customer_id\n",
    "having count(1) > 1 */\n",
    "\n",
    "SELECT customer_id, COUNT(DISTINCT product_id) AS product_count\n",
    "FROM Orders\n",
    "GROUP BY customer_id\n",
    "HAVING COUNT(DISTINCT product_id) > 1;"
   ]
  },
  {
   "cell_type": "code",
   "execution_count": 0,
   "metadata": {
    "application/vnd.databricks.v1+cell": {
     "cellMetadata": {
      "byteLimit": 2048000,
      "rowLimit": 10000
     },
     "inputWidgets": {},
     "nuid": "5b87d275-a852-46bd-b1ee-d6e5ec8f8f6e",
     "showTitle": false,
     "tableResultSettingsMap": {},
     "title": ""
    }
   },
   "outputs": [],
   "source": [
    "--Retrieve the product category with the highest sales amount.\n",
    "/* with product_revenue as (\n",
    "select p.category, sum(p.price * o.quantity) as total_revenue from products p\n",
    "inner join orders o  using (product_id)\n",
    "group by p.category),\n",
    "ranked_categories as (\n",
    "select category, rank() over (order by total_revenue desc) as rnk from product_revenue)\n",
    "select * from ranked_categories where rnk = 1 */\n",
    "\n",
    "SELECT p.category, SUM(o.quantity * p.price) AS total_sales\n",
    "FROM Products p\n",
    "JOIN Orders o ON p.product_id = o.product_id\n",
    "GROUP BY p.category\n",
    "ORDER BY total_sales DESC\n",
    "LIMIT 1;"
   ]
  },
  {
   "cell_type": "code",
   "execution_count": 0,
   "metadata": {
    "application/vnd.databricks.v1+cell": {
     "cellMetadata": {
      "byteLimit": 2048000,
      "rowLimit": 10000
     },
     "inputWidgets": {},
     "nuid": "823d1bc2-1b4b-4799-900a-0b589c566b56",
     "showTitle": false,
     "tableResultSettingsMap": {},
     "title": ""
    }
   },
   "outputs": [],
   "source": [
    "drop table products;\n",
    "drop table orders;"
   ]
  },
  {
   "cell_type": "markdown",
   "metadata": {
    "application/vnd.databricks.v1+cell": {
     "cellMetadata": {},
     "inputWidgets": {},
     "nuid": "65ae3777-1c81-45f7-a48c-21a1e12f1b41",
     "showTitle": false,
     "tableResultSettingsMap": {},
     "title": ""
    }
   },
   "source": [
    "# More complex scenarios"
   ]
  },
  {
   "cell_type": "code",
   "execution_count": 0,
   "metadata": {
    "application/vnd.databricks.v1+cell": {
     "cellMetadata": {
      "byteLimit": 2048000,
      "rowLimit": 10000
     },
     "inputWidgets": {},
     "nuid": "cd583ad1-e761-4731-b30e-5d054706bb22",
     "showTitle": false,
     "tableResultSettingsMap": {},
     "title": ""
    }
   },
   "outputs": [],
   "source": [
    "CREATE TABLE Attendance (\n",
    "    emp_id INT,\n",
    "    login_time TIMESTAMP,\n",
    "    logout_time TIMESTAMP\n",
    ");"
   ]
  },
  {
   "cell_type": "code",
   "execution_count": 0,
   "metadata": {
    "application/vnd.databricks.v1+cell": {
     "cellMetadata": {
      "byteLimit": 2048000,
      "rowLimit": 10000
     },
     "inputWidgets": {},
     "nuid": "c31457dd-4179-42d7-ba2e-19dc5f19190e",
     "showTitle": false,
     "tableResultSettingsMap": {},
     "title": ""
    }
   },
   "outputs": [],
   "source": [
    "INSERT INTO Attendance VALUES (101, '2023-03-01 09:00:00', '2023-03-01 18:00:00');\n",
    "INSERT INTO Attendance VALUES (102, '2023-03-01 10:00:00', '2023-03-01 17:00:00');\n",
    "INSERT INTO Attendance VALUES (101, '2023-03-02 09:30:00', '2023-03-02 18:00:00');\n",
    "INSERT INTO Attendance VALUES (102, '2023-03-02 10:00:00', '2023-03-02 17:30:00');\n"
   ]
  },
  {
   "cell_type": "code",
   "execution_count": 0,
   "metadata": {
    "application/vnd.databricks.v1+cell": {
     "cellMetadata": {
      "byteLimit": 2048000,
      "rowLimit": 10000
     },
     "inputWidgets": {},
     "nuid": "3d037cb3-9520-4b96-88e5-c28903519fc5",
     "showTitle": false,
     "tableResultSettingsMap": {},
     "title": ""
    }
   },
   "outputs": [],
   "source": [
    "select * from attendance;"
   ]
  },
  {
   "cell_type": "code",
   "execution_count": 0,
   "metadata": {
    "application/vnd.databricks.v1+cell": {
     "cellMetadata": {
      "byteLimit": 2048000,
      "rowLimit": 10000
     },
     "inputWidgets": {},
     "nuid": "af12a784-bfcb-4248-a4d7-885135c72238",
     "showTitle": false,
     "tableResultSettingsMap": {},
     "title": ""
    }
   },
   "outputs": [],
   "source": [
    "--Calculate total working hours for each employee.\n",
    "select emp_id,date_format(login_time,'yyyy-MM-dd') as todays_date ,date_diff(hour,login_time,logout_time) as hours_worked from attendance\n",
    "order by todays_date \n",
    "/*\n",
    "SELECT emp_id, SUM(TIMESTAMPDIFF(HOUR, login_time, logout_time)) AS total_hours\n",
    "FROM Attendance\n",
    "GROUP BY emp_id;*/"
   ]
  },
  {
   "cell_type": "code",
   "execution_count": 0,
   "metadata": {
    "application/vnd.databricks.v1+cell": {
     "cellMetadata": {
      "byteLimit": 2048000,
      "rowLimit": 10000
     },
     "inputWidgets": {},
     "nuid": "5f83994a-2ed1-4934-b94c-818d1245eb40",
     "showTitle": false,
     "tableResultSettingsMap": {},
     "title": ""
    }
   },
   "outputs": [],
   "source": [
    "--Get the employee who worked the most hours on each day.\n",
    "\n",
    "with daily_work_hours as (\n",
    "  select emp_id,date_format(login_time,'yyyy-MM-dd') as todays_date ,date_diff(hour,login_time,logout_time) as hours_worked from attendance\n",
    "),\n",
    "max_hours_worked as (\n",
    "  select emp_id, todays_date, rank() over (partition by todays_date order by hours_worked desc) as rnk from daily_work_hours\n",
    ")\n",
    "select * except(rnk) from max_hours_worked where rnk = 1"
   ]
  },
  {
   "cell_type": "code",
   "execution_count": 0,
   "metadata": {
    "application/vnd.databricks.v1+cell": {
     "cellMetadata": {
      "byteLimit": 2048000,
      "rowLimit": 10000
     },
     "inputWidgets": {},
     "nuid": "415a0bef-dbb1-4947-8a8f-2a0c48ae4c7f",
     "showTitle": false,
     "tableResultSettingsMap": {},
     "title": ""
    }
   },
   "outputs": [],
   "source": [
    "--Calculate running total working hours for each employee using window functions.\n",
    "\n",
    "with daily_work_hours as (\n",
    "select emp_id, date_format(login_time,'yyyy-MM-dd') as todays_date,date_diff(hour,login_time,logout_time) as hours_worked from attendance\n",
    ")\n",
    "select emp_id, todays_date,sum(hours_worked) over (partition by emp_id order by todays_date) as running_total from daily_work_hours;"
   ]
  },
  {
   "cell_type": "code",
   "execution_count": 0,
   "metadata": {
    "application/vnd.databricks.v1+cell": {
     "cellMetadata": {
      "byteLimit": 2048000,
      "rowLimit": 10000
     },
     "inputWidgets": {},
     "nuid": "f4935f87-3941-4601-a6ee-ef398109a42d",
     "showTitle": false,
     "tableResultSettingsMap": {},
     "title": ""
    }
   },
   "outputs": [],
   "source": [
    "CREATE TABLE Transactions (\n",
    "    txn_id INT,\n",
    "    customer_id INT,\n",
    "    txn_date DATE,\n",
    "    amount INT\n",
    ");\n",
    "\n",
    "INSERT INTO Transactions VALUES (1, 201, '2023-01-10', 1000);\n",
    "INSERT INTO Transactions VALUES (2, 201, '2023-01-15', 2000);\n",
    "INSERT INTO Transactions VALUES (3, 202, '2023-01-20', 1500);\n",
    "INSERT INTO Transactions VALUES (4, 202, '2023-01-25', 500);\n",
    "INSERT INTO Transactions VALUES (5, 201, '2023-02-01', 3000);"
   ]
  },
  {
   "cell_type": "code",
   "execution_count": 0,
   "metadata": {
    "application/vnd.databricks.v1+cell": {
     "cellMetadata": {
      "byteLimit": 2048000,
      "rowLimit": 10000
     },
     "inputWidgets": {},
     "nuid": "5f8d8d02-b00c-4225-8694-ea6321c442c8",
     "showTitle": false,
     "tableResultSettingsMap": {},
     "title": ""
    }
   },
   "outputs": [],
   "source": [
    "select * from transactions;"
   ]
  },
  {
   "cell_type": "code",
   "execution_count": 0,
   "metadata": {
    "application/vnd.databricks.v1+cell": {
     "cellMetadata": {
      "byteLimit": 2048000,
      "rowLimit": 10000
     },
     "inputWidgets": {},
     "nuid": "6dfa7f16-4fa8-4fd1-96bd-a39f54728771",
     "showTitle": false,
     "tableResultSettingsMap": {},
     "title": ""
    }
   },
   "outputs": [],
   "source": [
    "--Find the cumulative amount for each customer ordered by txn_date.\n",
    "select customer_id, txn_date ,sum(amount) over (partition by customer_id order by txn_date) as cumulative_amount from transactions;\n"
   ]
  },
  {
   "cell_type": "code",
   "execution_count": 0,
   "metadata": {
    "application/vnd.databricks.v1+cell": {
     "cellMetadata": {
      "byteLimit": 2048000,
      "rowLimit": 10000
     },
     "inputWidgets": {},
     "nuid": "365f5c3c-5017-405b-bfe4-4bcb8ec57d89",
     "showTitle": false,
     "tableResultSettingsMap": {},
     "title": ""
    }
   },
   "outputs": [],
   "source": [
    "--Identify the highest transaction amount for each customer using window functions.\n",
    "select customer_id, amount from\n",
    "(select *, rank() over (partition by customer_id order by amount desc) as rank from transactions)x\n",
    "where x.rank = 1;\n"
   ]
  },
  {
   "cell_type": "code",
   "execution_count": 0,
   "metadata": {
    "application/vnd.databricks.v1+cell": {
     "cellMetadata": {
      "byteLimit": 2048000,
      "rowLimit": 10000
     },
     "inputWidgets": {},
     "nuid": "d237716f-46b1-4784-9bba-4c66b4a10f3e",
     "showTitle": false,
     "tableResultSettingsMap": {},
     "title": ""
    }
   },
   "outputs": [],
   "source": [
    "--Rank transactions for each customer based on amount.\n",
    "select customer_id, txn_date, amount from \n",
    "(select *, rank() over (partition by customer_id order by amount desc) as rank from transactions)x\n",
    "order by customer_id,amount desc;"
   ]
  }
 ],
 "metadata": {
  "application/vnd.databricks.v1+notebook": {
   "computePreferences": null,
   "dashboards": [],
   "environmentMetadata": {
    "base_environment": "",
    "environment_version": "2"
   },
   "language": "sql",
   "notebookMetadata": {
    "pythonIndentUnit": 4
   },
   "notebookName": "SQL Problems",
   "widgets": {}
  },
  "language_info": {
   "name": "sql"
  }
 },
 "nbformat": 4,
 "nbformat_minor": 0
}
